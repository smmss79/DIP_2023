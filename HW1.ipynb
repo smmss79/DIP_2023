import cv2
import matplotlib.pyplot as plt

from sklearn.cluster import kmeans

